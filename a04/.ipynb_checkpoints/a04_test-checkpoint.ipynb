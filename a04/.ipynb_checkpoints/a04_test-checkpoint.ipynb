{
 "cells": [
  {
   "cell_type": "code",
   "execution_count": 36,
   "metadata": {},
   "outputs": [],
   "source": [
    "import pandas as pd\n",
    "import numpy as np\n",
    "import joblib\n",
    "import seaborn as sns\n",
    "import matplotlib.pyplot as plt\n",
    "from imblearn.over_sampling import RandomOverSampler\n",
    "from sklearn.model_selection import train_test_split\n",
    "import re"
   ]
  },
  {
   "cell_type": "code",
   "execution_count": 37,
   "metadata": {},
   "outputs": [
    {
     "name": "stderr",
     "output_type": "stream",
     "text": [
      "/Users/hanpeitao/opt/anaconda3/lib/python3.7/site-packages/IPython/core/interactiveshell.py:3063: DtypeWarning: Columns (46,47,56,57,141,142,266,340,360,437,650,651) have mixed types.Specify dtype option on import or set low_memory=False.\n",
      "  interactivity=interactivity, compiler=compiler, result=result)\n"
     ]
    }
   ],
   "source": [
    "data = pd.read_csv('test_data.csv',encoding='utf-8')#读取文件\n",
    "passport = data['pax_passport']"
   ]
  },
  {
   "cell_type": "code",
   "execution_count": 38,
   "metadata": {},
   "outputs": [
    {
     "name": "stdout",
     "output_type": "stream",
     "text": [
      "0       2019-04-10 11:30:00\n",
      "1       2019-12-04 21:00:00\n",
      "2       2018-11-29 11:30:00\n",
      "3       2017-12-20 13:00:00\n",
      "4       2017-10-24 19:10:00\n",
      "               ...         \n",
      "6766    2019-11-05 21:00:00\n",
      "6767    2019-07-04 21:05:00\n",
      "6768    2020-02-23 20:20:00\n",
      "6769    2019-09-24 11:30:00\n",
      "6770    2019-07-04 21:05:00\n",
      "Name: seg_dep_time, Length: 6771, dtype: object\n"
     ]
    }
   ],
   "source": [
    "data['seg_dep_time_loc']=pd.to_datetime(data['seg_dep_time'])\n",
    "print(data['seg_dep_time'])\n",
    "max_date=pd.Timestamp(data['seg_dep_time_loc'].max()).timestamp()\n",
    "date_df=data['seg_dep_time_loc'].apply(lambda x:pd.Timestamp(x).timestamp())\n",
    "data['seg_dep_time_interval']=data['seg_dep_time_loc'].apply(lambda x:x.hour)\n",
    "data.drop('seg_dep_time',axis=1,inplace=True)\n",
    "data['seg_dep_time_loc']=max_date-date_df\n",
    "data['seg_dep_time_gap']=data['seg_dep_time_loc']/(24*60*60)"
   ]
  },
  {
   "cell_type": "markdown",
   "metadata": {},
   "source": [
    "* 1) seg_dep_time_gap               0.237879\n",
    "* 2) pax_fcny                       0.230680\n",
    "* 3) seg_dep_time_interval          0.042140\n",
    "* 4) seg_cabin                      0.041153\n",
    "* 5) flt_bag_cnt_y1                 0.037611\n",
    "* 6) avg_dist_cnt_y1                0.035616"
   ]
  },
  {
   "cell_type": "code",
   "execution_count": 39,
   "metadata": {},
   "outputs": [],
   "source": [
    "data2=data[['seg_dep_time_gap','pax_fcny','seg_dep_time_interval','seg_cabin']]"
   ]
  },
  {
   "cell_type": "code",
   "execution_count": 40,
   "metadata": {},
   "outputs": [
    {
     "data": {
      "text/html": [
       "<div>\n",
       "<style scoped>\n",
       "    .dataframe tbody tr th:only-of-type {\n",
       "        vertical-align: middle;\n",
       "    }\n",
       "\n",
       "    .dataframe tbody tr th {\n",
       "        vertical-align: top;\n",
       "    }\n",
       "\n",
       "    .dataframe thead th {\n",
       "        text-align: right;\n",
       "    }\n",
       "</style>\n",
       "<table border=\"1\" class=\"dataframe\">\n",
       "  <thead>\n",
       "    <tr style=\"text-align: right;\">\n",
       "      <th></th>\n",
       "      <th>seg_dep_time_gap</th>\n",
       "      <th>pax_fcny</th>\n",
       "      <th>seg_dep_time_interval</th>\n",
       "      <th>seg_cabin</th>\n",
       "    </tr>\n",
       "  </thead>\n",
       "  <tbody>\n",
       "    <tr>\n",
       "      <th>0</th>\n",
       "      <td>602.395833</td>\n",
       "      <td>339.0</td>\n",
       "      <td>11</td>\n",
       "      <td>Y</td>\n",
       "    </tr>\n",
       "    <tr>\n",
       "      <th>1</th>\n",
       "      <td>364.000000</td>\n",
       "      <td>255.0</td>\n",
       "      <td>21</td>\n",
       "      <td>Y</td>\n",
       "    </tr>\n",
       "    <tr>\n",
       "      <th>2</th>\n",
       "      <td>734.395833</td>\n",
       "      <td>479.0</td>\n",
       "      <td>11</td>\n",
       "      <td>Y</td>\n",
       "    </tr>\n",
       "    <tr>\n",
       "      <th>3</th>\n",
       "      <td>1078.333333</td>\n",
       "      <td>400.0</td>\n",
       "      <td>13</td>\n",
       "      <td>Y</td>\n",
       "    </tr>\n",
       "    <tr>\n",
       "      <th>4</th>\n",
       "      <td>1135.076389</td>\n",
       "      <td>500.0</td>\n",
       "      <td>19</td>\n",
       "      <td>Y</td>\n",
       "    </tr>\n",
       "    <tr>\n",
       "      <th>...</th>\n",
       "      <td>...</td>\n",
       "      <td>...</td>\n",
       "      <td>...</td>\n",
       "      <td>...</td>\n",
       "    </tr>\n",
       "    <tr>\n",
       "      <th>6766</th>\n",
       "      <td>393.000000</td>\n",
       "      <td>2707.0</td>\n",
       "      <td>21</td>\n",
       "      <td>J</td>\n",
       "    </tr>\n",
       "    <tr>\n",
       "      <th>6767</th>\n",
       "      <td>516.996528</td>\n",
       "      <td>216000.0</td>\n",
       "      <td>21</td>\n",
       "      <td>Y</td>\n",
       "    </tr>\n",
       "    <tr>\n",
       "      <th>6768</th>\n",
       "      <td>283.027778</td>\n",
       "      <td>324.0</td>\n",
       "      <td>20</td>\n",
       "      <td>Y</td>\n",
       "    </tr>\n",
       "    <tr>\n",
       "      <th>6769</th>\n",
       "      <td>435.395833</td>\n",
       "      <td>385.0</td>\n",
       "      <td>11</td>\n",
       "      <td>Y</td>\n",
       "    </tr>\n",
       "    <tr>\n",
       "      <th>6770</th>\n",
       "      <td>516.996528</td>\n",
       "      <td>533.0</td>\n",
       "      <td>21</td>\n",
       "      <td>Y</td>\n",
       "    </tr>\n",
       "  </tbody>\n",
       "</table>\n",
       "<p>6771 rows × 4 columns</p>\n",
       "</div>"
      ],
      "text/plain": [
       "      seg_dep_time_gap  pax_fcny  seg_dep_time_interval seg_cabin\n",
       "0           602.395833     339.0                     11         Y\n",
       "1           364.000000     255.0                     21         Y\n",
       "2           734.395833     479.0                     11         Y\n",
       "3          1078.333333     400.0                     13         Y\n",
       "4          1135.076389     500.0                     19         Y\n",
       "...                ...       ...                    ...       ...\n",
       "6766        393.000000    2707.0                     21         J\n",
       "6767        516.996528  216000.0                     21         Y\n",
       "6768        283.027778     324.0                     20         Y\n",
       "6769        435.395833     385.0                     11         Y\n",
       "6770        516.996528     533.0                     21         Y\n",
       "\n",
       "[6771 rows x 4 columns]"
      ]
     },
     "execution_count": 40,
     "metadata": {},
     "output_type": "execute_result"
    }
   ],
   "source": [
    "data2"
   ]
  },
  {
   "cell_type": "code",
   "execution_count": 41,
   "metadata": {},
   "outputs": [
    {
     "name": "stderr",
     "output_type": "stream",
     "text": [
      "/Users/hanpeitao/opt/anaconda3/lib/python3.7/site-packages/ipykernel_launcher.py:13: SettingWithCopyWarning: \n",
      "A value is trying to be set on a copy of a slice from a DataFrame.\n",
      "Try using .loc[row_indexer,col_indexer] = value instead\n",
      "\n",
      "See the caveats in the documentation: https://pandas.pydata.org/pandas-docs/stable/user_guide/indexing.html#returning-a-view-versus-a-copy\n",
      "  del sys.path[0]\n"
     ]
    }
   ],
   "source": [
    "flt_col = []\n",
    "for col in data.columns:\n",
    "    res_y3 = re.search(r'^flt_bag_cnt',col)\n",
    "    if res_y3:\n",
    "        #print(res.group())\n",
    "        flt_col.append(col)\n",
    "flt_df=pd.DataFrame(data[flt_col])\n",
    "for i in range(flt_df.shape[0]):\n",
    "    for j in range(flt_df.shape[1]-1):\n",
    "        if flt_df.iloc[i,j+1]<flt_df.iloc[i,j]:\n",
    "            flt_df.iloc[i,j+1]=flt_df.iloc[i,j]\n",
    "res3=flt_df[flt_col[0]]*0.6+(flt_df[flt_col[1]]-flt_df[flt_col[0]])*0.3+(flt_df[flt_col[2]]-flt_df[flt_col[1]])*0.1\n",
    "data2['flt_bag_cnt_y1']=res3"
   ]
  },
  {
   "cell_type": "code",
   "execution_count": 42,
   "metadata": {},
   "outputs": [
    {
     "name": "stderr",
     "output_type": "stream",
     "text": [
      "/Users/hanpeitao/opt/anaconda3/lib/python3.7/site-packages/ipykernel_launcher.py:13: SettingWithCopyWarning: \n",
      "A value is trying to be set on a copy of a slice from a DataFrame.\n",
      "Try using .loc[row_indexer,col_indexer] = value instead\n",
      "\n",
      "See the caveats in the documentation: https://pandas.pydata.org/pandas-docs/stable/user_guide/indexing.html#returning-a-view-versus-a-copy\n",
      "  del sys.path[0]\n"
     ]
    }
   ],
   "source": [
    "flt_col = []\n",
    "for col in data.columns:\n",
    "    res_y3 = re.search(r'^avg_dist_cnt',col)\n",
    "    if res_y3:\n",
    "        #print(res.group())\n",
    "        flt_col.append(col)\n",
    "flt_df=pd.DataFrame(data[flt_col])\n",
    "for i in range(flt_df.shape[0]):\n",
    "    for j in range(flt_df.shape[1]-1):\n",
    "        if flt_df.iloc[i,j+1]<flt_df.iloc[i,j]:\n",
    "            flt_df.iloc[i,j+1]=flt_df.iloc[i,j]\n",
    "res3=flt_df[flt_col[0]]*0.6+(flt_df[flt_col[1]]-flt_df[flt_col[0]])*0.3+(flt_df[flt_col[2]]-flt_df[flt_col[1]])*0.1\n",
    "data2['avg_dist_cnt_y1']=res3"
   ]
  },
  {
   "cell_type": "code",
   "execution_count": 43,
   "metadata": {},
   "outputs": [
    {
     "data": {
      "text/html": [
       "<div>\n",
       "<style scoped>\n",
       "    .dataframe tbody tr th:only-of-type {\n",
       "        vertical-align: middle;\n",
       "    }\n",
       "\n",
       "    .dataframe tbody tr th {\n",
       "        vertical-align: top;\n",
       "    }\n",
       "\n",
       "    .dataframe thead th {\n",
       "        text-align: right;\n",
       "    }\n",
       "</style>\n",
       "<table border=\"1\" class=\"dataframe\">\n",
       "  <thead>\n",
       "    <tr style=\"text-align: right;\">\n",
       "      <th></th>\n",
       "      <th>seg_dep_time_gap</th>\n",
       "      <th>pax_fcny</th>\n",
       "      <th>seg_dep_time_interval</th>\n",
       "      <th>seg_cabin</th>\n",
       "      <th>flt_bag_cnt_y1</th>\n",
       "      <th>avg_dist_cnt_y1</th>\n",
       "    </tr>\n",
       "  </thead>\n",
       "  <tbody>\n",
       "    <tr>\n",
       "      <th>0</th>\n",
       "      <td>602.395833</td>\n",
       "      <td>339.0</td>\n",
       "      <td>11</td>\n",
       "      <td>Y</td>\n",
       "      <td>0.0</td>\n",
       "      <td>2880.0</td>\n",
       "    </tr>\n",
       "    <tr>\n",
       "      <th>1</th>\n",
       "      <td>364.000000</td>\n",
       "      <td>255.0</td>\n",
       "      <td>21</td>\n",
       "      <td>Y</td>\n",
       "      <td>0.0</td>\n",
       "      <td>0.0</td>\n",
       "    </tr>\n",
       "    <tr>\n",
       "      <th>2</th>\n",
       "      <td>734.395833</td>\n",
       "      <td>479.0</td>\n",
       "      <td>11</td>\n",
       "      <td>Y</td>\n",
       "      <td>0.0</td>\n",
       "      <td>410.8</td>\n",
       "    </tr>\n",
       "    <tr>\n",
       "      <th>3</th>\n",
       "      <td>1078.333333</td>\n",
       "      <td>400.0</td>\n",
       "      <td>13</td>\n",
       "      <td>Y</td>\n",
       "      <td>0.0</td>\n",
       "      <td>0.0</td>\n",
       "    </tr>\n",
       "    <tr>\n",
       "      <th>4</th>\n",
       "      <td>1135.076389</td>\n",
       "      <td>500.0</td>\n",
       "      <td>19</td>\n",
       "      <td>Y</td>\n",
       "      <td>0.0</td>\n",
       "      <td>0.0</td>\n",
       "    </tr>\n",
       "    <tr>\n",
       "      <th>...</th>\n",
       "      <td>...</td>\n",
       "      <td>...</td>\n",
       "      <td>...</td>\n",
       "      <td>...</td>\n",
       "      <td>...</td>\n",
       "      <td>...</td>\n",
       "    </tr>\n",
       "    <tr>\n",
       "      <th>6766</th>\n",
       "      <td>393.000000</td>\n",
       "      <td>2707.0</td>\n",
       "      <td>21</td>\n",
       "      <td>J</td>\n",
       "      <td>0.0</td>\n",
       "      <td>0.0</td>\n",
       "    </tr>\n",
       "    <tr>\n",
       "      <th>6767</th>\n",
       "      <td>516.996528</td>\n",
       "      <td>216000.0</td>\n",
       "      <td>21</td>\n",
       "      <td>Y</td>\n",
       "      <td>0.0</td>\n",
       "      <td>0.0</td>\n",
       "    </tr>\n",
       "    <tr>\n",
       "      <th>6768</th>\n",
       "      <td>283.027778</td>\n",
       "      <td>324.0</td>\n",
       "      <td>20</td>\n",
       "      <td>Y</td>\n",
       "      <td>0.0</td>\n",
       "      <td>0.0</td>\n",
       "    </tr>\n",
       "    <tr>\n",
       "      <th>6769</th>\n",
       "      <td>435.395833</td>\n",
       "      <td>385.0</td>\n",
       "      <td>11</td>\n",
       "      <td>Y</td>\n",
       "      <td>0.0</td>\n",
       "      <td>0.0</td>\n",
       "    </tr>\n",
       "    <tr>\n",
       "      <th>6770</th>\n",
       "      <td>516.996528</td>\n",
       "      <td>533.0</td>\n",
       "      <td>21</td>\n",
       "      <td>Y</td>\n",
       "      <td>0.0</td>\n",
       "      <td>0.0</td>\n",
       "    </tr>\n",
       "  </tbody>\n",
       "</table>\n",
       "<p>6771 rows × 6 columns</p>\n",
       "</div>"
      ],
      "text/plain": [
       "      seg_dep_time_gap  pax_fcny  seg_dep_time_interval seg_cabin  \\\n",
       "0           602.395833     339.0                     11         Y   \n",
       "1           364.000000     255.0                     21         Y   \n",
       "2           734.395833     479.0                     11         Y   \n",
       "3          1078.333333     400.0                     13         Y   \n",
       "4          1135.076389     500.0                     19         Y   \n",
       "...                ...       ...                    ...       ...   \n",
       "6766        393.000000    2707.0                     21         J   \n",
       "6767        516.996528  216000.0                     21         Y   \n",
       "6768        283.027778     324.0                     20         Y   \n",
       "6769        435.395833     385.0                     11         Y   \n",
       "6770        516.996528     533.0                     21         Y   \n",
       "\n",
       "      flt_bag_cnt_y1  avg_dist_cnt_y1  \n",
       "0                0.0           2880.0  \n",
       "1                0.0              0.0  \n",
       "2                0.0            410.8  \n",
       "3                0.0              0.0  \n",
       "4                0.0              0.0  \n",
       "...              ...              ...  \n",
       "6766             0.0              0.0  \n",
       "6767             0.0              0.0  \n",
       "6768             0.0              0.0  \n",
       "6769             0.0              0.0  \n",
       "6770             0.0              0.0  \n",
       "\n",
       "[6771 rows x 6 columns]"
      ]
     },
     "execution_count": 43,
     "metadata": {},
     "output_type": "execute_result"
    }
   ],
   "source": [
    "data2"
   ]
  },
  {
   "cell_type": "code",
   "execution_count": 44,
   "metadata": {},
   "outputs": [
    {
     "name": "stdout",
     "output_type": "stream",
     "text": [
      "Y\n",
      "J\n",
      "F\n"
     ]
    },
    {
     "name": "stderr",
     "output_type": "stream",
     "text": [
      "/Users/hanpeitao/opt/anaconda3/lib/python3.7/site-packages/pandas/core/generic.py:6746: SettingWithCopyWarning: \n",
      "A value is trying to be set on a copy of a slice from a DataFrame\n",
      "\n",
      "See the caveats in the documentation: https://pandas.pydata.org/pandas-docs/stable/user_guide/indexing.html#returning-a-view-versus-a-copy\n",
      "  self._update_inplace(new_data)\n"
     ]
    }
   ],
   "source": [
    "object_col=['seg_cabin']\n",
    "for col in object_col:\n",
    "    dict_t = np.load('dict/dict_{}.npy'.format(col),allow_pickle=True).item()\n",
    "    dict_now = data2[col].value_counts(1).to_dict()\n",
    "    #print(dict_t,dict_now)\n",
    "    for i in dict_now:\n",
    "        print(i)\n",
    "        if i not in dict_t:\n",
    "            dict_t=0\n",
    "    data2[col].replace(dict_t,inplace=True)\n",
    "data2 = data2.iloc[:, :2]"
   ]
  },
  {
   "cell_type": "code",
   "execution_count": 45,
   "metadata": {},
   "outputs": [],
   "source": [
    "data2 = (data2-data2.mean())/data2.std()\n",
    "data2 = (data2-data2.min())/(data2.max()-data2.min())"
   ]
  },
  {
   "cell_type": "code",
   "execution_count": 46,
   "metadata": {},
   "outputs": [],
   "source": [
    "model = joblib.load('a04.model')\n",
    "y_pred = model.predict(data2) # 对新的样本Z做预测 \n",
    "y_ab = model.predict_proba(data2)"
   ]
  },
  {
   "cell_type": "code",
   "execution_count": 49,
   "metadata": {},
   "outputs": [],
   "source": [
    "df=pd.DataFrame(y_ab)\n",
    "data2['y_pred']=y_pred\n",
    "data2[['y_ab_0','y_ab_1']]=df"
   ]
  },
  {
   "cell_type": "code",
   "execution_count": 33,
   "metadata": {},
   "outputs": [],
   "source": [
    "data2['passport']=passport\n",
    "data2.drop(['seg_dep_time_gap','pax_fcny'],axis=1,inplace=True)"
   ]
  },
  {
   "cell_type": "code",
   "execution_count": 92,
   "metadata": {},
   "outputs": [],
   "source": [
    "data2.to_csv('res.csv',index=False)"
   ]
  }
 ],
 "metadata": {
  "kernelspec": {
   "display_name": "Python 3",
   "language": "python",
   "name": "python3"
  },
  "language_info": {
   "codemirror_mode": {
    "name": "ipython",
    "version": 3
   },
   "file_extension": ".py",
   "mimetype": "text/x-python",
   "name": "python",
   "nbconvert_exporter": "python",
   "pygments_lexer": "ipython3",
   "version": "3.7.6"
  }
 },
 "nbformat": 4,
 "nbformat_minor": 4
}
