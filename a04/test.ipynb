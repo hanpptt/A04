{
 "cells": [
  {
   "cell_type": "code",
   "execution_count": 1,
   "metadata": {},
   "outputs": [],
   "source": [
    "import pandas as pd\n",
    "import numpy as np\n",
    "import seaborn as sns\n",
    "import matplotlib.pyplot as plt\n",
    "import re"
   ]
  },
  {
   "cell_type": "code",
   "execution_count": 2,
   "metadata": {},
   "outputs": [],
   "source": [
    "data = pd.read_csv('data_p1.csv',encoding='utf-8')#读取文件"
   ]
  },
  {
   "cell_type": "code",
   "execution_count": 4,
   "metadata": {},
   "outputs": [],
   "source": [
    "data.drop(['pax_name','pax_passport'],axis=1,inplace=True)"
   ]
  },
  {
   "cell_type": "code",
   "execution_count": 6,
   "metadata": {},
   "outputs": [
    {
     "ename": "NameError",
     "evalue": "name 'object_col' is not defined",
     "output_type": "error",
     "traceback": [
      "\u001b[0;31m---------------------------------------------------------------------------\u001b[0m",
      "\u001b[0;31mNameError\u001b[0m                                 Traceback (most recent call last)",
      "\u001b[0;32m<ipython-input-6-8c9c871ee962>\u001b[0m in \u001b[0;36m<module>\u001b[0;34m\u001b[0m\n\u001b[0;32m----> 1\u001b[0;31m \u001b[0;32mfor\u001b[0m \u001b[0mcol\u001b[0m \u001b[0;32min\u001b[0m \u001b[0mobject_col\u001b[0m\u001b[0;34m:\u001b[0m\u001b[0;34m\u001b[0m\u001b[0;34m\u001b[0m\u001b[0m\n\u001b[0m\u001b[1;32m      2\u001b[0m     \u001b[0mdict_t\u001b[0m \u001b[0;34m=\u001b[0m \u001b[0mdata\u001b[0m\u001b[0;34m[\u001b[0m\u001b[0mcol\u001b[0m\u001b[0;34m]\u001b[0m\u001b[0;34m.\u001b[0m\u001b[0mvalue_counts\u001b[0m\u001b[0;34m(\u001b[0m\u001b[0;36m1\u001b[0m\u001b[0;34m)\u001b[0m\u001b[0;34m.\u001b[0m\u001b[0mto_dict\u001b[0m\u001b[0;34m(\u001b[0m\u001b[0;34m)\u001b[0m\u001b[0;31m#获得类型频率\u001b[0m\u001b[0;34m\u001b[0m\u001b[0;34m\u001b[0m\u001b[0m\n\u001b[1;32m      3\u001b[0m     \u001b[0;32mif\u001b[0m \u001b[0;34m'0'\u001b[0m \u001b[0;32min\u001b[0m \u001b[0;34m[\u001b[0m\u001b[0mi\u001b[0m \u001b[0;32mfor\u001b[0m \u001b[0mi\u001b[0m \u001b[0;32min\u001b[0m \u001b[0mdict_t\u001b[0m\u001b[0;34m]\u001b[0m\u001b[0;34m:\u001b[0m\u001b[0;34m\u001b[0m\u001b[0;34m\u001b[0m\u001b[0m\n\u001b[1;32m      4\u001b[0m         \u001b[0mdict_t\u001b[0m\u001b[0;34m[\u001b[0m\u001b[0;34m'0'\u001b[0m\u001b[0;34m]\u001b[0m\u001b[0;34m=\u001b[0m\u001b[0;36m0\u001b[0m\u001b[0;34m\u001b[0m\u001b[0;34m\u001b[0m\u001b[0m\n\u001b[1;32m      5\u001b[0m     \u001b[0;31m#np.save('dict/dict_{}.npy'.format(col), dict_t)#储存频率数据\u001b[0m\u001b[0;34m\u001b[0m\u001b[0;34m\u001b[0m\u001b[0;34m\u001b[0m\u001b[0m\n",
      "\u001b[0;31mNameError\u001b[0m: name 'object_col' is not defined"
     ]
    }
   ],
   "source": [
    "for col in object_col:\n",
    "    dict_t = data[col].value_counts(1).to_dict()#获得类型频率\n",
    "    if '0' in [i for i in dict_t]:\n",
    "        dict_t['0']=0\n",
    "    #np.save('dict/dict_{}.npy'.format(col), dict_t)#储存频率数据\n",
    "    data[col].replace(dict_t,inplace=True)"
   ]
  },
  {
   "cell_type": "code",
   "execution_count": null,
   "metadata": {},
   "outputs": [],
   "source": [
    "y3_col = []#利用正则选取不同时间范围的特征\n",
    "y2_col = []\n",
    "y1_col = []\n",
    "m6_col = []\n",
    "m3_col = []\n",
    "for col in data.columns:\n",
    "    res_y3 = re.search(r'y3$',col)\n",
    "    res_y2 = re.search(r'y2$',col)\n",
    "    res_y1 = re.search(r'y1$',col)\n",
    "    res_m6 = re.search(r'm6$',col)\n",
    "    res_m3 = re.search(r'm3$',col)\n",
    "    if res_y3:\n",
    "        #print(res.group())\n",
    "        y3_col.append(col)\n",
    "    elif res_y2:\n",
    "        y2_col.append(col)\n",
    "    elif res_y1:\n",
    "        y1_col.append(col)\n",
    "    elif res_m6:\n",
    "        m6_col.append(col)\n",
    "    elif res_m3:\n",
    "        m3_col.append(col)\n",
    "y1_df = pd.DataFrame(data[y1_col])#建立df便于之后的计算\n",
    "y2_df = pd.DataFrame(data[y2_col].values,columns=y1_col)\n",
    "y3_df = pd.DataFrame(data[y3_col].values,columns=y1_col)\n",
    "m3_df = pd.DataFrame(data[m3_col].values,columns=y1_col)\n",
    "m6_df = pd.DataFrame(data[m6_col].values,columns=y1_col)\n",
    "#依据公式计算结果\n",
    "res1=m3_df*0.6*0.75*0.75+(m6_df-m3_df)*0.6*0.75*0.25+(y1_df-m6_df)*0.6*0.25+(y2_df-y1_df)*0.3+(y3_df-y2_df)*0.1"
   ]
  },
  {
   "cell_type": "code",
   "execution_count": null,
   "metadata": {},
   "outputs": [],
   "source": [
    "f_per_air=[]\n",
    "for index in data.index:\n",
    "    res=df_per_air.loc[index].value_counts().index#选择出出现次数最多的飞机型号\n",
    "    if res[0]=='0' and len(res)>1:\n",
    "        air=res[1]\n",
    "    else:\n",
    "        air=res[0]\n",
    "    f_per_air.append(air)"
   ]
  },
  {
   "cell_type": "code",
   "execution_count": null,
   "metadata": {},
   "outputs": [],
   "source": [
    "data['seg_dep_time_loc']=pd.to_datetime(data['seg_dep_time'])\n",
    "#print(data['seg_dep_time'])\n",
    "max_date=pd.Timestamp(data['seg_dep_time_loc'].max()).timestamp()\n",
    "date_df=data['seg_dep_time_loc'].apply(lambda x:pd.Timestamp(x).timestamp())\n",
    "data['seg_dep_time_interval']=data['seg_dep_time_loc'].apply(lambda x:x.hour)#计算时段\n",
    "data.drop('seg_dep_time',axis=1,inplace=True)\n",
    "data['seg_dep_time_loc']=max_date-date_df\n",
    "data['seg_dep_time_gap']=data['seg_dep_time_loc']/(24*60*60)#计算日期间隔\n",
    "#data['seg_dep_time_gap']=data['seg_dep_time_gap'].astype(int)\n",
    "data.drop('seg_dep_time_loc',axis=1,inplace=True)"
   ]
  }
 ],
 "metadata": {
  "kernelspec": {
   "display_name": "Python 3",
   "language": "python",
   "name": "python3"
  },
  "language_info": {
   "codemirror_mode": {
    "name": "ipython",
    "version": 3
   },
   "file_extension": ".py",
   "mimetype": "text/x-python",
   "name": "python",
   "nbconvert_exporter": "python",
   "pygments_lexer": "ipython3",
   "version": "3.7.6"
  }
 },
 "nbformat": 4,
 "nbformat_minor": 4
}
