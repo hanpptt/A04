{
 "cells": [
  {
   "cell_type": "code",
   "execution_count": 1,
   "metadata": {},
   "outputs": [],
   "source": [
    "import pandas as pd\n",
    "import seaborn as sns\n",
    "import matplotlib.pyplot as plt\n",
    "import os"
   ]
  },
  {
   "cell_type": "code",
   "execution_count": 99,
   "metadata": {},
   "outputs": [],
   "source": [
    "data = pd.read_csv('data_oversampling.csv',encoding='utf-8')\n",
    "y=data['emd_lable2']"
   ]
  },
  {
   "cell_type": "code",
   "execution_count": 100,
   "metadata": {},
   "outputs": [],
   "source": [
    "file='lasso-rows.txt'\n",
    "col=[]\n",
    "f=open(file,'r')\n",
    "ff=f.readlines()\n",
    "for line in ff:\n",
    "    line=line.rstrip(\"\\n\")\n",
    "    col.append(line)"
   ]
  },
  {
   "cell_type": "code",
   "execution_count": 101,
   "metadata": {},
   "outputs": [],
   "source": [
    "col=[i.strip('\"') for i in col[2:]]"
   ]
  },
  {
   "cell_type": "code",
   "execution_count": 102,
   "metadata": {},
   "outputs": [],
   "source": [
    "corr=data[col].corr()"
   ]
  },
  {
   "cell_type": "code",
   "execution_count": 68,
   "metadata": {},
   "outputs": [],
   "source": [
    "corr.to_csv('corr_data.csv',index=False)"
   ]
  },
  {
   "cell_type": "markdown",
   "metadata": {},
   "source": [
    "# 相关性分析"
   ]
  },
  {
   "cell_type": "code",
   "execution_count": 164,
   "metadata": {},
   "outputs": [],
   "source": [
    "def correlation3(dataset, threshold):\n",
    "    oo=0\n",
    "    col=[]\n",
    "    col_corr = set()\n",
    "    corr_matrix = dataset.corr()\n",
    "    for i in range(len(corr_matrix.columns)):\n",
    "        for j in range(i):\n",
    "            if (abs(corr_matrix.iloc[i, j]) >= threshold) and (corr_matrix.columns[j] not in col_corr):\n",
    "                corr_i=y.corr(data.iloc[:,i])\n",
    "                corr_j=y.corr(data.iloc[:,j])\n",
    "                if abs(corr_i)>abs(corr_j):\n",
    "                    colname = corr_matrix.columns[j]\n",
    "                    col_corr.add(colname)\n",
    "                    col.append(colname)\n",
    "                    print('{} col is j:{}'.format(oo,colname))\n",
    "                    print('corr is {:.5f}:'.format(corr_matrix.iloc[i,j]))\n",
    "                    print('i is {}:{:.5f}'.format(corr_matrix.columns[i],corr_i))\n",
    "                    print('j is {}:{:.5f}'.format(corr_matrix.columns[j],corr_j))\n",
    "                    oo=oo+1\n",
    "                    \n",
    "                else:\n",
    "                    colname = corr_matrix.columns[i]\n",
    "                    col_corr.add(colname)\n",
    "                    col.append(colname)\n",
    "                    print('{} col is i:{}'.format(oo,colname))\n",
    "                    print('corr is {:.5f}:'.format(corr_matrix.iloc[i,j]))\n",
    "                    print('i is {}:{:.5f}'.format(corr_matrix.columns[i],corr_i))\n",
    "                    print('j is {}:{:.5f}'.format(corr_matrix.columns[j],corr_j))\n",
    "                    oo=oo+1\n",
    "    return col"
   ]
  },
  {
   "cell_type": "code",
   "execution_count": 142,
   "metadata": {},
   "outputs": [],
   "source": [
    "corr_matrix = data[col].corr()"
   ]
  },
  {
   "cell_type": "code",
   "execution_count": 165,
   "metadata": {
    "scrolled": true
   },
   "outputs": [
    {
     "name": "stdout",
     "output_type": "stream",
     "text": [
      "0 col is i:pax_tax\n",
      "corr is 0.97480:\n",
      "i is pax_tax:-0.05257\n",
      "j is pax_fcny:0.27248\n",
      "1 col is i:residence_country\n",
      "corr is 0.92156:\n",
      "i is residence_country:0.04475\n",
      "j is gender:0.18705\n",
      "2 col is i:nation_name\n",
      "corr is 0.72682:\n",
      "i is nation_name:0.06011\n",
      "j is age:0.07139\n",
      "3 col is i:member_level\n",
      "corr is 0.82381:\n",
      "i is member_level:-0.00302\n",
      "j is age:0.07139\n",
      "4 col is j:pref_aircraft\n",
      "corr is 0.80459:\n",
      "i is per_city:0.00755\n",
      "j is pref_aircraft:-0.00061\n",
      "5 col is i:flt_cnt_y1\n",
      "corr is 0.82521:\n",
      "i is flt_cnt_y1:0.05742\n",
      "j is seat_window_cnt_y1:0.06046\n",
      "6 col is i:cabin_upgrd_cnt_y1\n",
      "corr is 0.75226:\n",
      "i is cabin_upgrd_cnt_y1:-0.03434\n",
      "j is cabin_f_cnt_y1:0.04871\n",
      "7 col is j:tkt_3y_amt\n",
      "corr is 0.72542:\n",
      "i is dist_all_cnt_y1:-0.08458\n",
      "j is tkt_3y_amt:0.04478\n",
      "8 col is j:seat_walkway_cnt_y1\n",
      "corr is 0.71037:\n",
      "i is dist_all_cnt_y1:-0.08458\n",
      "j is seat_walkway_cnt_y1:-0.00382\n",
      "9 col is i:cabin_hd_cnt_y1\n",
      "corr is 0.75021:\n",
      "i is cabin_hd_cnt_y1:-0.02595\n",
      "j is cabin_f_cnt_y1:0.04871\n",
      "10 col is j:dist_d_cnt_y1\n",
      "corr is 0.70635:\n",
      "i is cabin_hd_cnt_y1:-0.02595\n",
      "j is dist_d_cnt_y1:0.02039\n",
      "11 col is j:cabin_hy_cnt_y1\n",
      "corr is 0.71209:\n",
      "i is flt_leg_cnt_y1:0.01465\n",
      "j is cabin_hy_cnt_y1:-0.00876\n",
      "12 col is i:flt_leg_cnt_y1\n",
      "corr is 0.81360:\n",
      "i is flt_leg_cnt_y1:0.01465\n",
      "j is dist_all_cnt_y1:-0.08458\n",
      "13 col is i:flt_leg_i_cnt_y1\n",
      "corr is 0.91419:\n",
      "i is flt_leg_i_cnt_y1:-0.02280\n",
      "j is dist_all_cnt_y1:-0.08458\n",
      "14 col is j:dist_all_cnt_y1\n",
      "corr is 0.81880:\n",
      "i is flt_bag_cnt_y1:0.15561\n",
      "j is dist_all_cnt_y1:-0.08458\n",
      "15 col is j:flt_delay_cnt_y1\n",
      "corr is 0.73273:\n",
      "i is flt_bag_cnt_y1:0.15561\n",
      "j is flt_delay_cnt_y1:-0.01465\n",
      "16 col is i:tkt_all_amt_y1\n",
      "corr is 0.72389:\n",
      "i is tkt_all_amt_y1:0.02151\n",
      "j is seat_window_cnt_y1:0.06046\n",
      "17 col is j:cabin_hi_cnt_y1\n",
      "corr is 0.76242:\n",
      "i is tkt_all_amt_y1:0.02151\n",
      "j is cabin_hi_cnt_y1:0.00213\n",
      "18 col is i:pit_cons_amt_y1\n",
      "corr is 0.82641:\n",
      "i is pit_cons_amt_y1:-0.00729\n",
      "j is pit_accu_amt_y1:-0.01534\n",
      "19 col is i:pit_add_air_cnt_y1\n",
      "corr is 0.84311:\n",
      "i is pit_add_air_cnt_y1:-0.00991\n",
      "j is pit_add_air_amt_y1:-0.03363\n",
      "20 col is i:pit_pay_cnt_y1\n",
      "corr is 0.71984:\n",
      "i is pit_pay_cnt_y1:0.00571\n",
      "j is pit_des_out_cnt_y1:-0.02985\n",
      "21 col is i:pit_income_avg_amt_y1\n",
      "corr is 1.00000:\n",
      "i is pit_income_avg_amt_y1:-0.03406\n",
      "j is pit_avg_accu_amt_y1:-0.04043\n",
      "22 col is i:pit_pay_avg_amt_y1\n",
      "corr is 1.00000:\n",
      "i is pit_pay_avg_amt_y1:-0.00974\n",
      "j is pit_avg_cons_amt_y1:-0.01730\n",
      "23 col is i:dist_cnt\n",
      "corr is 0.71243:\n",
      "i is dist_cnt:-0.01141\n",
      "j is flt_bag_cnt_y1:0.15561\n",
      "24 col is i:flt_natrue_cnt\n",
      "corr is 0.77510:\n",
      "i is flt_natrue_cnt:-0.02534\n",
      "j is flt_bag_cnt_y1:0.15561\n",
      "25 col is j:tkt_book_cnt_y1\n",
      "corr is 0.80796:\n",
      "i is flt_natrue_cnt:-0.02534\n",
      "j is tkt_book_cnt_y1:-0.01139\n"
     ]
    }
   ],
   "source": [
    "corr_col=correlation3(data[col],0.7)"
   ]
  },
  {
   "cell_type": "code",
   "execution_count": 166,
   "metadata": {},
   "outputs": [],
   "source": [
    "f=open(\"corr_col.txt\",\"w\")\n",
    "f.writelines(str(corr_col))\n",
    "f.close()"
   ]
  },
  {
   "cell_type": "code",
   "execution_count": 167,
   "metadata": {
    "collapsed": true
   },
   "outputs": [
    {
     "data": {
      "text/plain": [
       "['pax_tax',\n",
       " 'residence_country',\n",
       " 'nation_name',\n",
       " 'member_level',\n",
       " 'pref_aircraft',\n",
       " 'flt_cnt_y1',\n",
       " 'cabin_upgrd_cnt_y1',\n",
       " 'tkt_3y_amt',\n",
       " 'seat_walkway_cnt_y1',\n",
       " 'cabin_hd_cnt_y1',\n",
       " 'dist_d_cnt_y1',\n",
       " 'cabin_hy_cnt_y1',\n",
       " 'flt_leg_cnt_y1',\n",
       " 'flt_leg_i_cnt_y1',\n",
       " 'dist_all_cnt_y1',\n",
       " 'flt_delay_cnt_y1',\n",
       " 'tkt_all_amt_y1',\n",
       " 'cabin_hi_cnt_y1',\n",
       " 'pit_cons_amt_y1',\n",
       " 'pit_add_air_cnt_y1',\n",
       " 'pit_pay_cnt_y1',\n",
       " 'pit_income_avg_amt_y1',\n",
       " 'pit_pay_avg_amt_y1',\n",
       " 'dist_cnt',\n",
       " 'flt_natrue_cnt',\n",
       " 'tkt_book_cnt_y1']"
      ]
     },
     "execution_count": 167,
     "metadata": {},
     "output_type": "execute_result"
    }
   ],
   "source": [
    "corr_col"
   ]
  },
  {
   "cell_type": "code",
   "execution_count": 168,
   "metadata": {},
   "outputs": [],
   "source": [
    "data2=data[col]\n",
    "data3=data2.drop(corr_col,axis=1)\n",
    "data3['emd_lable2']=data['emd_lable2']"
   ]
  },
  {
   "cell_type": "code",
   "execution_count": 169,
   "metadata": {},
   "outputs": [],
   "source": [
    "data3.to_csv('corr_data2.csv',index=False,encoding='utf-8')"
   ]
  },
  {
   "cell_type": "code",
   "execution_count": null,
   "metadata": {},
   "outputs": [],
   "source": []
  }
 ],
 "metadata": {
  "kernelspec": {
   "display_name": "Python 3",
   "language": "python",
   "name": "python3"
  },
  "language_info": {
   "codemirror_mode": {
    "name": "ipython",
    "version": 3
   },
   "file_extension": ".py",
   "mimetype": "text/x-python",
   "name": "python",
   "nbconvert_exporter": "python",
   "pygments_lexer": "ipython3",
   "version": "3.7.6"
  }
 },
 "nbformat": 4,
 "nbformat_minor": 2
}
